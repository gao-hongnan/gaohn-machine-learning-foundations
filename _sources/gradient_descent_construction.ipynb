{
  "cells": [
    {
      "cell_type": "markdown",
      "metadata": {},
      "source": [
        "# Gradient Descent Construction"
      ]
    },
    {
      "cell_type": "code",
      "execution_count": null,
      "metadata": {},
      "outputs": [],
      "source": [
        "%pip install -q --progress-bar off d2l==1.0.0a1.post0 # replace ! with % for jupyter notebook"
      ]
    },
    {
      "cell_type": "markdown",
      "metadata": {
        "id": "EozG2fmJr9Z5"
      },
      "source": [
        "Ref: https://d2l.ai/chapter_optimization/gd.html"
      ]
    },
    {
      "cell_type": "code",
      "execution_count": 90,
      "metadata": {
        "id": "VPkEj0tZ39CT"
      },
      "outputs": [],
      "source": [
        "from abc import ABC, abstractmethod, ABCMeta\n",
        "from typing import Optional, Tuple, List, Callable\n",
        "\n",
        "# import numpy as np\n",
        "from d2l import torch as d2l\n",
        "import torch\n",
        "import copy\n",
        "\n",
        "import autograd.numpy as np  # Thinly-wrapped numpy\n",
        "from autograd import grad    # The only autograd function you may ever need"
      ]
    },
    {
      "cell_type": "code",
      "execution_count": 6,
      "metadata": {
        "id": "4E--A9DdmAAo"
      },
      "outputs": [],
      "source": [
        "class Function:\n",
        "    def __init__(self, f: Callable):\n",
        "        self._f = f\n",
        "\n",
        "    def __call__(self, x, *args, **kwargs) -> float:\n",
        "        # a function returns a scalar float\n",
        "        fx = self._f(*args, **kwargs)\n",
        "        return fx\n",
        "\n",
        "\n",
        "class GradFunction:\n",
        "    def __init__(self, grad_f: Callable):\n",
        "        self._grad_f = grad_f\n",
        "\n",
        "    def __call__(self, x, *args, **kwargs) -> np.ndarray:\n",
        "        # grad fn/vector returns an array of vector\n",
        "        grad_fx = self._grad_f(*args, **kwargs)\n",
        "        return grad_fx"
      ]
    },
    {
      "cell_type": "code",
      "execution_count": 91,
      "metadata": {
        "id": "FSFCQFns5JfK"
      },
      "outputs": [],
      "source": [
        "class Optimizer(metaclass=ABCMeta):\n",
        "    \"\"\"Abstract class for optimizers.\"\"\"\n",
        "\n",
        "    def __init__(\n",
        "        self, f: Callable, grad_f: Callable, num_epochs: int, lr: float\n",
        "    ):\n",
        "        self._f = f\n",
        "        self._grad_f = grad_f\n",
        "        self._num_epochs = num_epochs\n",
        "        self._lr = lr\n",
        "\n",
        "    @abstractmethod\n",
        "    def update(\n",
        "        self,\n",
        "        weights: np.ndarray,\n",
        "        biases: Optional[np.ndarray],\n",
        "    ) -> None:\n",
        "        \"\"\"Update the weights and biases.\n",
        "\n",
        "        Args:\n",
        "            weights (np.ndarray): \n",
        "            biases (np.ndarray): \n",
        "\n",
        "\n",
        "        Raises:\n",
        "            NotImplementedError: \n",
        "        \"\"\"\n",
        "\n",
        "        raise NotImplementedError\n",
        "\n",
        "\n",
        "class GradientDescent(Optimizer):\n",
        "    def __init__(\n",
        "        self, f: Callable, grad_f: Callable, num_epochs: int, lr: float\n",
        "    ):\n",
        "        self._f = f\n",
        "        self._grad_f = grad_f\n",
        "        self._num_epochs = num_epochs\n",
        "        self._lr = lr\n",
        "        self.weights_history = []\n",
        "  \n",
        "    def update(\n",
        "        self,\n",
        "        weights: np.ndarray,\n",
        "        biases: Optional[np.ndarray] = None,\n",
        "    ) -> None:\n",
        "\n",
        "        for epoch in range(1, self._num_epochs + 1):\n",
        "\n",
        "            # grad vec at each point \n",
        "            gradient_vector = self._grad_f(weights)\n",
        "            weights -= self._lr * gradient_vector\n",
        "        \n",
        "            if biases is not None:\n",
        "                pass # implement next time\n",
        "                # biases -= self._lr * gradient_vector[1:]\n",
        "\n",
        "            print(f\"Epoch {epoch}: weights {weights}, biases {biases}\")\n",
        "\n",
        "            # must use copy if not weights (np array) mutatable: https://tinyurl.com/bdff69by\n",
        "            self.weights_history.append(copy.copy(weights)) \n",
        "      \n",
        "        return weights, biases, self.weights_history"
      ]
    },
    {
      "cell_type": "code",
      "execution_count": 92,
      "metadata": {
        "id": "QPluNTp7kjI6"
      },
      "outputs": [],
      "source": [
        "def f(w):  # Objective function\n",
        "    return w ** 2\n",
        "\n",
        "\n",
        "def grad_f(\n",
        "    w,\n",
        "):  # Gradient (derivative) of the objective function\n",
        "    return 2 * w"
      ]
    },
    {
      "cell_type": "code",
      "execution_count": 93,
      "metadata": {
        "id": "7kXXrnDX5Jha"
      },
      "outputs": [],
      "source": [
        "batch_gd = GradientDescent(f=f, grad_f = grad_f, num_epochs=10, lr=0.2)"
      ]
    },
    {
      "cell_type": "code",
      "execution_count": 94,
      "metadata": {
        "colab": {
          "base_uri": "https://localhost:8080/"
        },
        "id": "mLfdIQLg5Jjv",
        "outputId": "149da423-cf13-47b4-b79f-03c789f1fab0"
      },
      "outputs": [
        {
          "name": "stdout",
          "output_type": "stream",
          "text": [
            "Epoch 1: weights 6.0, biases None\n",
            "Epoch 2: weights 3.5999999999999996, biases None\n",
            "Epoch 3: weights 2.1599999999999997, biases None\n",
            "Epoch 4: weights 1.2959999999999998, biases None\n",
            "Epoch 5: weights 0.7775999999999998, biases None\n",
            "Epoch 6: weights 0.46655999999999986, biases None\n",
            "Epoch 7: weights 0.2799359999999999, biases None\n",
            "Epoch 8: weights 0.16796159999999993, biases None\n",
            "Epoch 9: weights 0.10077695999999996, biases None\n",
            "Epoch 10: weights 0.06046617599999997, biases None\n"
          ]
        }
      ],
      "source": [
        "initial_weight = 10\n",
        "initial_bias = None # we ignore bias for simplicity\n",
        "_, _, weights_history = batch_gd.update(initial_weight)"
      ]
    },
    {
      "cell_type": "code",
      "execution_count": 95,
      "metadata": {
        "colab": {
          "base_uri": "https://localhost:8080/",
          "height": 262
        },
        "id": "fmjigCA6LGrj",
        "outputId": "543ba928-6078-46a4-9957-0a6b2baa5cee"
      },
      "outputs": [
        {
          "data": {
            "image/svg+xml": "<?xml version=\"1.0\" encoding=\"utf-8\" standalone=\"no\"?>\n<!DOCTYPE svg PUBLIC \"-//W3C//DTD SVG 1.1//EN\"\n  \"http://www.w3.org/Graphics/SVG/1.1/DTD/svg11.dtd\">\n<!-- Created with matplotlib (https://matplotlib.org/) -->\n<svg height=\"180.65625pt\" version=\"1.1\" viewBox=\"0 0 243.103125 180.65625\" width=\"243.103125pt\" xmlns=\"http://www.w3.org/2000/svg\" xmlns:xlink=\"http://www.w3.org/1999/xlink\">\n <defs>\n  <style type=\"text/css\">\n*{stroke-linecap:butt;stroke-linejoin:round;}\n  </style>\n </defs>\n <g id=\"figure_1\">\n  <g id=\"patch_1\">\n   <path d=\"M 0 180.65625 \nL 243.103125 180.65625 \nL 243.103125 0 \nL 0 0 \nz\n\" style=\"fill:none;\"/>\n  </g>\n  <g id=\"axes_1\">\n   <g id=\"patch_2\">\n    <path d=\"M 40.603125 143.1 \nL 235.903125 143.1 \nL 235.903125 7.2 \nL 40.603125 7.2 \nz\n\" style=\"fill:#ffffff;\"/>\n   </g>\n   <g id=\"matplotlib.axis_1\">\n    <g id=\"xtick_1\">\n     <g id=\"line2d_1\">\n      <path clip-path=\"url(#p9339e1319a)\" d=\"M 64.275852 143.1 \nL 64.275852 7.2 \n\" style=\"fill:none;stroke:#b0b0b0;stroke-linecap:square;stroke-width:0.8;\"/>\n     </g>\n     <g id=\"line2d_2\">\n      <defs>\n       <path d=\"M 0 0 \nL 0 3.5 \n\" id=\"me691cedf95\" style=\"stroke:#000000;stroke-width:0.8;\"/>\n      </defs>\n      <g>\n       <use style=\"stroke:#000000;stroke-width:0.8;\" x=\"64.275852\" xlink:href=\"#me691cedf95\" y=\"143.1\"/>\n      </g>\n     </g>\n     <g id=\"text_1\">\n      <!-- −5.0 -->\n      <defs>\n       <path d=\"M 10.59375 35.5 \nL 73.1875 35.5 \nL 73.1875 27.203125 \nL 10.59375 27.203125 \nz\n\" id=\"DejaVuSans-8722\"/>\n       <path d=\"M 10.796875 72.90625 \nL 49.515625 72.90625 \nL 49.515625 64.59375 \nL 19.828125 64.59375 \nL 19.828125 46.734375 \nQ 21.96875 47.46875 24.109375 47.828125 \nQ 26.265625 48.1875 28.421875 48.1875 \nQ 40.625 48.1875 47.75 41.5 \nQ 54.890625 34.8125 54.890625 23.390625 \nQ 54.890625 11.625 47.5625 5.09375 \nQ 40.234375 -1.421875 26.90625 -1.421875 \nQ 22.3125 -1.421875 17.546875 -0.640625 \nQ 12.796875 0.140625 7.71875 1.703125 \nL 7.71875 11.625 \nQ 12.109375 9.234375 16.796875 8.0625 \nQ 21.484375 6.890625 26.703125 6.890625 \nQ 35.15625 6.890625 40.078125 11.328125 \nQ 45.015625 15.765625 45.015625 23.390625 \nQ 45.015625 31 40.078125 35.4375 \nQ 35.15625 39.890625 26.703125 39.890625 \nQ 22.75 39.890625 18.8125 39.015625 \nQ 14.890625 38.140625 10.796875 36.28125 \nz\n\" id=\"DejaVuSans-53\"/>\n       <path d=\"M 10.6875 12.40625 \nL 21 12.40625 \nL 21 0 \nL 10.6875 0 \nz\n\" id=\"DejaVuSans-46\"/>\n       <path d=\"M 31.78125 66.40625 \nQ 24.171875 66.40625 20.328125 58.90625 \nQ 16.5 51.421875 16.5 36.375 \nQ 16.5 21.390625 20.328125 13.890625 \nQ 24.171875 6.390625 31.78125 6.390625 \nQ 39.453125 6.390625 43.28125 13.890625 \nQ 47.125 21.390625 47.125 36.375 \nQ 47.125 51.421875 43.28125 58.90625 \nQ 39.453125 66.40625 31.78125 66.40625 \nz\nM 31.78125 74.21875 \nQ 44.046875 74.21875 50.515625 64.515625 \nQ 56.984375 54.828125 56.984375 36.375 \nQ 56.984375 17.96875 50.515625 8.265625 \nQ 44.046875 -1.421875 31.78125 -1.421875 \nQ 19.53125 -1.421875 13.0625 8.265625 \nQ 6.59375 17.96875 6.59375 36.375 \nQ 6.59375 54.828125 13.0625 64.515625 \nQ 19.53125 74.21875 31.78125 74.21875 \nz\n\" id=\"DejaVuSans-48\"/>\n      </defs>\n      <g transform=\"translate(52.134446 157.698438)scale(0.1 -0.1)\">\n       <use xlink:href=\"#DejaVuSans-8722\"/>\n       <use x=\"83.789062\" xlink:href=\"#DejaVuSans-53\"/>\n       <use x=\"147.412109\" xlink:href=\"#DejaVuSans-46\"/>\n       <use x=\"179.199219\" xlink:href=\"#DejaVuSans-48\"/>\n      </g>\n     </g>\n    </g>\n    <g id=\"xtick_2\">\n     <g id=\"line2d_3\">\n      <path clip-path=\"url(#p9339e1319a)\" d=\"M 101.264489 143.1 \nL 101.264489 7.2 \n\" style=\"fill:none;stroke:#b0b0b0;stroke-linecap:square;stroke-width:0.8;\"/>\n     </g>\n     <g id=\"line2d_4\">\n      <g>\n       <use style=\"stroke:#000000;stroke-width:0.8;\" x=\"101.264489\" xlink:href=\"#me691cedf95\" y=\"143.1\"/>\n      </g>\n     </g>\n     <g id=\"text_2\">\n      <!-- −2.5 -->\n      <defs>\n       <path d=\"M 19.1875 8.296875 \nL 53.609375 8.296875 \nL 53.609375 0 \nL 7.328125 0 \nL 7.328125 8.296875 \nQ 12.9375 14.109375 22.625 23.890625 \nQ 32.328125 33.6875 34.8125 36.53125 \nQ 39.546875 41.84375 41.421875 45.53125 \nQ 43.3125 49.21875 43.3125 52.78125 \nQ 43.3125 58.59375 39.234375 62.25 \nQ 35.15625 65.921875 28.609375 65.921875 \nQ 23.96875 65.921875 18.8125 64.3125 \nQ 13.671875 62.703125 7.8125 59.421875 \nL 7.8125 69.390625 \nQ 13.765625 71.78125 18.9375 73 \nQ 24.125 74.21875 28.421875 74.21875 \nQ 39.75 74.21875 46.484375 68.546875 \nQ 53.21875 62.890625 53.21875 53.421875 \nQ 53.21875 48.921875 51.53125 44.890625 \nQ 49.859375 40.875 45.40625 35.40625 \nQ 44.1875 33.984375 37.640625 27.21875 \nQ 31.109375 20.453125 19.1875 8.296875 \nz\n\" id=\"DejaVuSans-50\"/>\n      </defs>\n      <g transform=\"translate(89.123082 157.698438)scale(0.1 -0.1)\">\n       <use xlink:href=\"#DejaVuSans-8722\"/>\n       <use x=\"83.789062\" xlink:href=\"#DejaVuSans-50\"/>\n       <use x=\"147.412109\" xlink:href=\"#DejaVuSans-46\"/>\n       <use x=\"179.199219\" xlink:href=\"#DejaVuSans-53\"/>\n      </g>\n     </g>\n    </g>\n    <g id=\"xtick_3\">\n     <g id=\"line2d_5\">\n      <path clip-path=\"url(#p9339e1319a)\" d=\"M 138.253125 143.1 \nL 138.253125 7.2 \n\" style=\"fill:none;stroke:#b0b0b0;stroke-linecap:square;stroke-width:0.8;\"/>\n     </g>\n     <g id=\"line2d_6\">\n      <g>\n       <use style=\"stroke:#000000;stroke-width:0.8;\" x=\"138.253125\" xlink:href=\"#me691cedf95\" y=\"143.1\"/>\n      </g>\n     </g>\n     <g id=\"text_3\">\n      <!-- 0.0 -->\n      <g transform=\"translate(130.301562 157.698438)scale(0.1 -0.1)\">\n       <use xlink:href=\"#DejaVuSans-48\"/>\n       <use x=\"63.623047\" xlink:href=\"#DejaVuSans-46\"/>\n       <use x=\"95.410156\" xlink:href=\"#DejaVuSans-48\"/>\n      </g>\n     </g>\n    </g>\n    <g id=\"xtick_4\">\n     <g id=\"line2d_7\">\n      <path clip-path=\"url(#p9339e1319a)\" d=\"M 175.241761 143.1 \nL 175.241761 7.2 \n\" style=\"fill:none;stroke:#b0b0b0;stroke-linecap:square;stroke-width:0.8;\"/>\n     </g>\n     <g id=\"line2d_8\">\n      <g>\n       <use style=\"stroke:#000000;stroke-width:0.8;\" x=\"175.241761\" xlink:href=\"#me691cedf95\" y=\"143.1\"/>\n      </g>\n     </g>\n     <g id=\"text_4\">\n      <!-- 2.5 -->\n      <g transform=\"translate(167.290199 157.698438)scale(0.1 -0.1)\">\n       <use xlink:href=\"#DejaVuSans-50\"/>\n       <use x=\"63.623047\" xlink:href=\"#DejaVuSans-46\"/>\n       <use x=\"95.410156\" xlink:href=\"#DejaVuSans-53\"/>\n      </g>\n     </g>\n    </g>\n    <g id=\"xtick_5\">\n     <g id=\"line2d_9\">\n      <path clip-path=\"url(#p9339e1319a)\" d=\"M 212.230398 143.1 \nL 212.230398 7.2 \n\" style=\"fill:none;stroke:#b0b0b0;stroke-linecap:square;stroke-width:0.8;\"/>\n     </g>\n     <g id=\"line2d_10\">\n      <g>\n       <use style=\"stroke:#000000;stroke-width:0.8;\" x=\"212.230398\" xlink:href=\"#me691cedf95\" y=\"143.1\"/>\n      </g>\n     </g>\n     <g id=\"text_5\">\n      <!-- 5.0 -->\n      <g transform=\"translate(204.278835 157.698438)scale(0.1 -0.1)\">\n       <use xlink:href=\"#DejaVuSans-53\"/>\n       <use x=\"63.623047\" xlink:href=\"#DejaVuSans-46\"/>\n       <use x=\"95.410156\" xlink:href=\"#DejaVuSans-48\"/>\n      </g>\n     </g>\n    </g>\n    <g id=\"text_6\">\n     <!-- x -->\n     <defs>\n      <path d=\"M 54.890625 54.6875 \nL 35.109375 28.078125 \nL 55.90625 0 \nL 45.3125 0 \nL 29.390625 21.484375 \nL 13.484375 0 \nL 2.875 0 \nL 24.125 28.609375 \nL 4.6875 54.6875 \nL 15.28125 54.6875 \nL 29.78125 35.203125 \nL 44.28125 54.6875 \nz\n\" id=\"DejaVuSans-120\"/>\n     </defs>\n     <g transform=\"translate(135.29375 171.376563)scale(0.1 -0.1)\">\n      <use xlink:href=\"#DejaVuSans-120\"/>\n     </g>\n    </g>\n   </g>\n   <g id=\"matplotlib.axis_2\">\n    <g id=\"ytick_1\">\n     <g id=\"line2d_11\">\n      <path clip-path=\"url(#p9339e1319a)\" d=\"M 40.603125 136.922727 \nL 235.903125 136.922727 \n\" style=\"fill:none;stroke:#b0b0b0;stroke-linecap:square;stroke-width:0.8;\"/>\n     </g>\n     <g id=\"line2d_12\">\n      <defs>\n       <path d=\"M 0 0 \nL -3.5 0 \n\" id=\"m0a93fd1c3d\" style=\"stroke:#000000;stroke-width:0.8;\"/>\n      </defs>\n      <g>\n       <use style=\"stroke:#000000;stroke-width:0.8;\" x=\"40.603125\" xlink:href=\"#m0a93fd1c3d\" y=\"136.922727\"/>\n      </g>\n     </g>\n     <g id=\"text_7\">\n      <!-- 0 -->\n      <g transform=\"translate(27.240625 140.721946)scale(0.1 -0.1)\">\n       <use xlink:href=\"#DejaVuSans-48\"/>\n      </g>\n     </g>\n    </g>\n    <g id=\"ytick_2\">\n     <g id=\"line2d_13\">\n      <path clip-path=\"url(#p9339e1319a)\" d=\"M 40.603125 102.604545 \nL 235.903125 102.604545 \n\" style=\"fill:none;stroke:#b0b0b0;stroke-linecap:square;stroke-width:0.8;\"/>\n     </g>\n     <g id=\"line2d_14\">\n      <g>\n       <use style=\"stroke:#000000;stroke-width:0.8;\" x=\"40.603125\" xlink:href=\"#m0a93fd1c3d\" y=\"102.604545\"/>\n      </g>\n     </g>\n     <g id=\"text_8\">\n      <!-- 10 -->\n      <defs>\n       <path d=\"M 12.40625 8.296875 \nL 28.515625 8.296875 \nL 28.515625 63.921875 \nL 10.984375 60.40625 \nL 10.984375 69.390625 \nL 28.421875 72.90625 \nL 38.28125 72.90625 \nL 38.28125 8.296875 \nL 54.390625 8.296875 \nL 54.390625 0 \nL 12.40625 0 \nz\n\" id=\"DejaVuSans-49\"/>\n      </defs>\n      <g transform=\"translate(20.878125 106.403764)scale(0.1 -0.1)\">\n       <use xlink:href=\"#DejaVuSans-49\"/>\n       <use x=\"63.623047\" xlink:href=\"#DejaVuSans-48\"/>\n      </g>\n     </g>\n    </g>\n    <g id=\"ytick_3\">\n     <g id=\"line2d_15\">\n      <path clip-path=\"url(#p9339e1319a)\" d=\"M 40.603125 68.286364 \nL 235.903125 68.286364 \n\" style=\"fill:none;stroke:#b0b0b0;stroke-linecap:square;stroke-width:0.8;\"/>\n     </g>\n     <g id=\"line2d_16\">\n      <g>\n       <use style=\"stroke:#000000;stroke-width:0.8;\" x=\"40.603125\" xlink:href=\"#m0a93fd1c3d\" y=\"68.286364\"/>\n      </g>\n     </g>\n     <g id=\"text_9\">\n      <!-- 20 -->\n      <g transform=\"translate(20.878125 72.085582)scale(0.1 -0.1)\">\n       <use xlink:href=\"#DejaVuSans-50\"/>\n       <use x=\"63.623047\" xlink:href=\"#DejaVuSans-48\"/>\n      </g>\n     </g>\n    </g>\n    <g id=\"ytick_4\">\n     <g id=\"line2d_17\">\n      <path clip-path=\"url(#p9339e1319a)\" d=\"M 40.603125 33.968182 \nL 235.903125 33.968182 \n\" style=\"fill:none;stroke:#b0b0b0;stroke-linecap:square;stroke-width:0.8;\"/>\n     </g>\n     <g id=\"line2d_18\">\n      <g>\n       <use style=\"stroke:#000000;stroke-width:0.8;\" x=\"40.603125\" xlink:href=\"#m0a93fd1c3d\" y=\"33.968182\"/>\n      </g>\n     </g>\n     <g id=\"text_10\">\n      <!-- 30 -->\n      <defs>\n       <path d=\"M 40.578125 39.3125 \nQ 47.65625 37.796875 51.625 33 \nQ 55.609375 28.21875 55.609375 21.1875 \nQ 55.609375 10.40625 48.1875 4.484375 \nQ 40.765625 -1.421875 27.09375 -1.421875 \nQ 22.515625 -1.421875 17.65625 -0.515625 \nQ 12.796875 0.390625 7.625 2.203125 \nL 7.625 11.71875 \nQ 11.71875 9.328125 16.59375 8.109375 \nQ 21.484375 6.890625 26.8125 6.890625 \nQ 36.078125 6.890625 40.9375 10.546875 \nQ 45.796875 14.203125 45.796875 21.1875 \nQ 45.796875 27.640625 41.28125 31.265625 \nQ 36.765625 34.90625 28.71875 34.90625 \nL 20.21875 34.90625 \nL 20.21875 43.015625 \nL 29.109375 43.015625 \nQ 36.375 43.015625 40.234375 45.921875 \nQ 44.09375 48.828125 44.09375 54.296875 \nQ 44.09375 59.90625 40.109375 62.90625 \nQ 36.140625 65.921875 28.71875 65.921875 \nQ 24.65625 65.921875 20.015625 65.03125 \nQ 15.375 64.15625 9.8125 62.3125 \nL 9.8125 71.09375 \nQ 15.4375 72.65625 20.34375 73.4375 \nQ 25.25 74.21875 29.59375 74.21875 \nQ 40.828125 74.21875 47.359375 69.109375 \nQ 53.90625 64.015625 53.90625 55.328125 \nQ 53.90625 49.265625 50.4375 45.09375 \nQ 46.96875 40.921875 40.578125 39.3125 \nz\n\" id=\"DejaVuSans-51\"/>\n      </defs>\n      <g transform=\"translate(20.878125 37.767401)scale(0.1 -0.1)\">\n       <use xlink:href=\"#DejaVuSans-51\"/>\n       <use x=\"63.623047\" xlink:href=\"#DejaVuSans-48\"/>\n      </g>\n     </g>\n    </g>\n    <g id=\"text_11\">\n     <!-- f(x) -->\n     <defs>\n      <path d=\"M 37.109375 75.984375 \nL 37.109375 68.5 \nL 28.515625 68.5 \nQ 23.6875 68.5 21.796875 66.546875 \nQ 19.921875 64.59375 19.921875 59.515625 \nL 19.921875 54.6875 \nL 34.71875 54.6875 \nL 34.71875 47.703125 \nL 19.921875 47.703125 \nL 19.921875 0 \nL 10.890625 0 \nL 10.890625 47.703125 \nL 2.296875 47.703125 \nL 2.296875 54.6875 \nL 10.890625 54.6875 \nL 10.890625 58.5 \nQ 10.890625 67.625 15.140625 71.796875 \nQ 19.390625 75.984375 28.609375 75.984375 \nz\n\" id=\"DejaVuSans-102\"/>\n      <path d=\"M 31 75.875 \nQ 24.46875 64.65625 21.28125 53.65625 \nQ 18.109375 42.671875 18.109375 31.390625 \nQ 18.109375 20.125 21.3125 9.0625 \nQ 24.515625 -2 31 -13.1875 \nL 23.1875 -13.1875 \nQ 15.875 -1.703125 12.234375 9.375 \nQ 8.59375 20.453125 8.59375 31.390625 \nQ 8.59375 42.28125 12.203125 53.3125 \nQ 15.828125 64.359375 23.1875 75.875 \nz\n\" id=\"DejaVuSans-40\"/>\n      <path d=\"M 8.015625 75.875 \nL 15.828125 75.875 \nQ 23.140625 64.359375 26.78125 53.3125 \nQ 30.421875 42.28125 30.421875 31.390625 \nQ 30.421875 20.453125 26.78125 9.375 \nQ 23.140625 -1.703125 15.828125 -13.1875 \nL 8.015625 -13.1875 \nQ 14.5 -2 17.703125 9.0625 \nQ 20.90625 20.125 20.90625 31.390625 \nQ 20.90625 42.671875 17.703125 53.65625 \nQ 14.5 64.65625 8.015625 75.875 \nz\n\" id=\"DejaVuSans-41\"/>\n     </defs>\n     <g transform=\"translate(14.798437 83.771094)rotate(-90)scale(0.1 -0.1)\">\n      <use xlink:href=\"#DejaVuSans-102\"/>\n      <use x=\"35.205078\" xlink:href=\"#DejaVuSans-40\"/>\n      <use x=\"74.21875\" xlink:href=\"#DejaVuSans-120\"/>\n      <use x=\"133.398438\" xlink:href=\"#DejaVuSans-41\"/>\n     </g>\n    </g>\n   </g>\n   <g id=\"line2d_19\">\n    <path clip-path=\"url(#p9339e1319a)\" d=\"M 49.480398 13.377273 \nL 54.066988 25.81383 \nL 58.505627 37.221205 \nL 62.944266 48.010851 \nL 67.23494 57.853633 \nL 71.377671 66.809313 \nL 75.372443 74.935511 \nL 79.367216 82.561355 \nL 83.214034 89.431855 \nL 86.912897 95.600547 \nL 90.611761 101.340262 \nL 94.16267 106.44681 \nL 97.565625 110.969602 \nL 100.96858 115.129309 \nL 104.22358 118.768409 \nL 107.478581 122.07531 \nL 110.585625 124.922002 \nL 113.692671 127.466009 \nL 116.651761 129.607463 \nL 119.610852 131.474373 \nL 122.421988 132.993638 \nL 125.233125 134.265127 \nL 128.044261 135.288838 \nL 130.707443 136.030111 \nL 133.370625 136.549002 \nL 136.033807 136.845511 \nL 138.696989 136.919639 \nL 141.36017 136.771384 \nL 144.023352 136.400748 \nL 146.686534 135.80773 \nL 149.349716 134.99233 \nL 152.160852 133.890373 \nL 154.971989 132.540639 \nL 157.783124 130.943128 \nL 160.742216 128.993855 \nL 163.701305 126.770037 \nL 166.660397 124.271673 \nL 169.767441 121.352913 \nL 172.874487 118.131464 \nL 176.129488 114.431964 \nL 179.384488 110.400264 \nL 182.787443 105.830113 \nL 186.338352 100.674148 \nL 189.889262 95.122837 \nL 193.588125 88.919826 \nL 197.286989 82.287838 \nL 201.133807 74.935511 \nL 205.128579 66.809313 \nL 209.123352 58.18275 \nL 213.266082 48.708175 \nL 217.556763 38.327961 \nL 221.847445 27.370509 \nL 226.286084 15.42777 \nL 226.877901 13.788734 \nL 226.877901 13.788734 \n\" style=\"fill:none;stroke:#1f77b4;stroke-linecap:square;stroke-width:1.5;\"/>\n   </g>\n   <g id=\"line2d_20\">\n    <path clip-path=\"url(#p9339e1319a)\" d=\"M 227.025852 13.377273 \nL 191.516761 92.446364 \nL 170.211307 120.911236 \nL 157.428034 131.158591 \nL 149.75807 134.847638 \nL 145.156092 136.175695 \nL 142.394905 136.653796 \nL 140.738193 136.825912 \nL 139.744166 136.887874 \nL 139.14775 136.91018 \n\" style=\"fill:none;stroke:#ff7f0e;stroke-linecap:square;stroke-width:1.5;\"/>\n    <defs>\n     <path d=\"M 0 3 \nC 0.795609 3 1.55874 2.683901 2.12132 2.12132 \nC 2.683901 1.55874 3 0.795609 3 0 \nC 3 -0.795609 2.683901 -1.55874 2.12132 -2.12132 \nC 1.55874 -2.683901 0.795609 -3 0 -3 \nC -0.795609 -3 -1.55874 -2.683901 -2.12132 -2.12132 \nC -2.683901 -1.55874 -3 -0.795609 -3 0 \nC -3 0.795609 -2.683901 1.55874 -2.12132 2.12132 \nC -1.55874 2.683901 -0.795609 3 0 3 \nz\n\" id=\"ma6be206559\" style=\"stroke:#ff7f0e;\"/>\n    </defs>\n    <g clip-path=\"url(#p9339e1319a)\">\n     <use style=\"fill:#ff7f0e;stroke:#ff7f0e;\" x=\"227.025852\" xlink:href=\"#ma6be206559\" y=\"13.377273\"/>\n     <use style=\"fill:#ff7f0e;stroke:#ff7f0e;\" x=\"191.516761\" xlink:href=\"#ma6be206559\" y=\"92.446364\"/>\n     <use style=\"fill:#ff7f0e;stroke:#ff7f0e;\" x=\"170.211307\" xlink:href=\"#ma6be206559\" y=\"120.911236\"/>\n     <use style=\"fill:#ff7f0e;stroke:#ff7f0e;\" x=\"157.428034\" xlink:href=\"#ma6be206559\" y=\"131.158591\"/>\n     <use style=\"fill:#ff7f0e;stroke:#ff7f0e;\" x=\"149.75807\" xlink:href=\"#ma6be206559\" y=\"134.847638\"/>\n     <use style=\"fill:#ff7f0e;stroke:#ff7f0e;\" x=\"145.156092\" xlink:href=\"#ma6be206559\" y=\"136.175695\"/>\n     <use style=\"fill:#ff7f0e;stroke:#ff7f0e;\" x=\"142.394905\" xlink:href=\"#ma6be206559\" y=\"136.653796\"/>\n     <use style=\"fill:#ff7f0e;stroke:#ff7f0e;\" x=\"140.738193\" xlink:href=\"#ma6be206559\" y=\"136.825912\"/>\n     <use style=\"fill:#ff7f0e;stroke:#ff7f0e;\" x=\"139.744166\" xlink:href=\"#ma6be206559\" y=\"136.887874\"/>\n     <use style=\"fill:#ff7f0e;stroke:#ff7f0e;\" x=\"139.14775\" xlink:href=\"#ma6be206559\" y=\"136.91018\"/>\n    </g>\n   </g>\n   <g id=\"patch_3\">\n    <path d=\"M 40.603125 143.1 \nL 40.603125 7.2 \n\" style=\"fill:none;stroke:#000000;stroke-linecap:square;stroke-linejoin:miter;stroke-width:0.8;\"/>\n   </g>\n   <g id=\"patch_4\">\n    <path d=\"M 235.903125 143.1 \nL 235.903125 7.2 \n\" style=\"fill:none;stroke:#000000;stroke-linecap:square;stroke-linejoin:miter;stroke-width:0.8;\"/>\n   </g>\n   <g id=\"patch_5\">\n    <path d=\"M 40.603125 143.1 \nL 235.903125 143.1 \n\" style=\"fill:none;stroke:#000000;stroke-linecap:square;stroke-linejoin:miter;stroke-width:0.8;\"/>\n   </g>\n   <g id=\"patch_6\">\n    <path d=\"M 40.603125 7.2 \nL 235.903125 7.2 \n\" style=\"fill:none;stroke:#000000;stroke-linecap:square;stroke-linejoin:miter;stroke-width:0.8;\"/>\n   </g>\n  </g>\n </g>\n <defs>\n  <clipPath id=\"p9339e1319a\">\n   <rect height=\"135.9\" width=\"195.3\" x=\"40.603125\" y=\"7.2\"/>\n  </clipPath>\n </defs>\n</svg>\n",
            "text/plain": [
              "<Figure size 252x180 with 1 Axes>"
            ]
          },
          "metadata": {
            "needs_background": "light"
          },
          "output_type": "display_data"
        }
      ],
      "source": [
        "def show_trace(results, f):\n",
        "    n = max(abs(min(results)), abs(max(results)))\n",
        "    f_line = torch.arange(-n, n, 0.01)\n",
        "    d2l.set_figsize()\n",
        "    d2l.plot([f_line, results], [[f(x) for x in f_line], [\n",
        "        f(x) for x in results]], 'x', 'f(x)', fmts=['-', '-o'])\n",
        "\n",
        "show_trace(weights_history, f)"
      ]
    },
    {
      "cell_type": "markdown",
      "metadata": {
        "id": "aT4xhEudl5cX"
      },
      "source": [
        "## 2D Example"
      ]
    },
    {
      "cell_type": "markdown",
      "metadata": {
        "id": "43Ky0RWznRfF"
      },
      "source": [
        "Let the problem be a linear model involving 2 variables:\n",
        "\n",
        "$$\n",
        "y = X \\beta = \\beta_1 x_1 + \\beta_2 x_2 \n",
        "$$\n",
        "\n",
        "As usual, we know $X$ is the design matrix and we want to find optimal weights for $\\beta$.\n",
        "\n",
        "Later we will use $\\beta$ and $w$ interchangeably.\n",
        "\n",
        "Let the loss function be \n",
        "\n",
        "$$\n",
        "L(\\beta_1, \\beta_2) = \\beta_1^2 + 2\\beta_2^2\n",
        "$$\n",
        "\n",
        "Then its gradient vector at a point $(\\beta_1, \\beta_2)$ is:\n",
        "\n",
        "$$\n",
        "\\nabla L(\\beta_1, \\beta_2) = \\begin{bmatrix} 2\\beta_1 \\\\ 4\\beta_2 \\end{bmatrix}\n",
        "$$"
      ]
    },
    {
      "cell_type": "code",
      "execution_count": 96,
      "metadata": {
        "id": "KepjQqYMQBv7"
      },
      "outputs": [],
      "source": [
        "def f_2d(w1, w2):  # Objective function\n",
        "    return w1 ** 2 + 2 * w2 ** 2\n",
        "\n",
        "def grad_f_2d(w1, w2):  # Gradient of the objective function\n",
        "    return (2 * w1, 4 * w2)"
      ]
    },
    {
      "cell_type": "markdown",
      "metadata": {
        "id": "OvmuQ0ORsBqj"
      },
      "source": [
        "We reframe the same functions below to take in only 1 weight vector so autograd can do its work."
      ]
    },
    {
      "cell_type": "code",
      "execution_count": 97,
      "metadata": {
        "id": "20wXOv17mpEj"
      },
      "outputs": [],
      "source": [
        "def f_2d(w):  # Objective function\n",
        "    w1, w2 = w[0], w[1]\n",
        "    return w1 ** 2 + 2 * w2 ** 2\n",
        "    \n",
        "def grad_f_2d(w):  # Gradient of the objective function\n",
        "    return np.asarray([2 * w[0], 4 * w[1]])"
      ]
    },
    {
      "cell_type": "code",
      "execution_count": 98,
      "metadata": {
        "id": "yxTey5vh5JmC"
      },
      "outputs": [],
      "source": [
        "initial_weights = np.asarray([-5, -2]).astype('float32') # x1, x2, s1, s2 = -5, -2, 0, 0\n",
        "initial_biases = None # we ignore bias for simplicity"
      ]
    },
    {
      "cell_type": "markdown",
      "metadata": {
        "id": "hfqywiyTppHQ"
      },
      "source": [
        "We can use autograd to directly compute the gradient vector for us."
      ]
    },
    {
      "cell_type": "code",
      "execution_count": 99,
      "metadata": {
        "colab": {
          "base_uri": "https://localhost:8080/"
        },
        "id": "DIHhdtaJo_Wu",
        "outputId": "9cc37e04-1209-41c3-9d8a-407ace10d9f6"
      },
      "outputs": [
        {
          "data": {
            "text/plain": [
              "array([-10.,  -8.], dtype=float32)"
            ]
          },
          "execution_count": 99,
          "metadata": {},
          "output_type": "execute_result"
        }
      ],
      "source": [
        "autograd_f = grad(f_2d)\n",
        "autograd_f(initial_weights)"
      ]
    },
    {
      "cell_type": "code",
      "execution_count": 100,
      "metadata": {
        "id": "z1LEvO0rmW1Z"
      },
      "outputs": [],
      "source": [
        "# batch_gd = GradientDescent(f=f_2d, grad_f = grad_f_2d, num_epochs=20, lr=0.1)"
      ]
    },
    {
      "cell_type": "code",
      "execution_count": 101,
      "metadata": {
        "id": "YMWHZccepv6T"
      },
      "outputs": [],
      "source": [
        "batch_gd = GradientDescent(f=f_2d, grad_f = autograd_f, num_epochs=20, lr=0.1) # autograd"
      ]
    },
    {
      "cell_type": "code",
      "execution_count": 102,
      "metadata": {
        "colab": {
          "base_uri": "https://localhost:8080/"
        },
        "id": "Z8F1Z29zoIXk",
        "outputId": "775d6b66-3a39-482a-d365-0d2af299ed60"
      },
      "outputs": [
        {
          "name": "stdout",
          "output_type": "stream",
          "text": [
            "Epoch 1: weights [-4.  -1.2], biases None\n",
            "Epoch 2: weights [-3.2  -0.72], biases None\n",
            "Epoch 3: weights [-2.56  -0.432], biases None\n",
            "Epoch 4: weights [-2.0479999 -0.2592   ], biases None\n",
            "Epoch 5: weights [-1.6383998  -0.15551999], biases None\n",
            "Epoch 6: weights [-1.3107198 -0.093312 ], biases None\n",
            "Epoch 7: weights [-1.0485759 -0.0559872], biases None\n",
            "Epoch 8: weights [-0.8388607  -0.03359232], biases None\n",
            "Epoch 9: weights [-0.6710886  -0.02015539], biases None\n",
            "Epoch 10: weights [-0.53687084 -0.01209324], biases None\n",
            "Epoch 11: weights [-0.42949668 -0.00725594], biases None\n",
            "Epoch 12: weights [-0.34359735 -0.00435356], biases None\n",
            "Epoch 13: weights [-0.27487788 -0.00261214], biases None\n",
            "Epoch 14: weights [-0.2199023  -0.00156728], biases None\n",
            "Epoch 15: weights [-0.17592184 -0.00094037], biases None\n",
            "Epoch 16: weights [-0.14073747 -0.00056422], biases None\n",
            "Epoch 17: weights [-0.11258998 -0.00033853], biases None\n",
            "Epoch 18: weights [-0.09007198 -0.00020312], biases None\n",
            "Epoch 19: weights [-0.07205759 -0.00012187], biases None\n",
            "Epoch 20: weights [-5.7646073e-02 -7.3123156e-05], biases None\n"
          ]
        }
      ],
      "source": [
        "_, _, weights_history = batch_gd.update(initial_weights)"
      ]
    },
    {
      "cell_type": "code",
      "execution_count": 103,
      "metadata": {
        "id": "2b_Th8CKoIZ3"
      },
      "outputs": [],
      "source": [
        "def show_trace_2d(f, results): \n",
        "    \"\"\"Show the trace of 2D variables during optimization.\"\"\"\n",
        "    d2l.set_figsize()\n",
        "    d2l.plt.plot(*zip(*results), '-o', color='#ff7f0e')\n",
        "    x1, x2 = torch.meshgrid(torch.arange(-5.5, 1.0, 0.1),\n",
        "                          torch.arange(-3.0, 1.0, 0.1))\n",
        "    d2l.plt.contour(x1, x2, f([x1, x2]), colors='#1f77b4')\n",
        "    d2l.plt.xlabel('x1')\n",
        "    d2l.plt.ylabel('x2')"
      ]
    },
    {
      "cell_type": "code",
      "execution_count": 104,
      "metadata": {
        "colab": {
          "base_uri": "https://localhost:8080/"
        },
        "id": "btgYebwcpWu0",
        "outputId": "dae4bf19-a016-4518-8480-5e1b3b102bdb"
      },
      "outputs": [
        {
          "data": {
            "text/plain": [
              "[array([-4. , -1.2], dtype=float32),\n",
              " array([-3.2 , -0.72], dtype=float32),\n",
              " array([-2.56 , -0.432], dtype=float32),\n",
              " array([-2.0479999, -0.2592   ], dtype=float32),\n",
              " array([-1.6383998 , -0.15551999], dtype=float32),\n",
              " array([-1.3107198, -0.093312 ], dtype=float32),\n",
              " array([-1.0485759, -0.0559872], dtype=float32),\n",
              " array([-0.8388607 , -0.03359232], dtype=float32),\n",
              " array([-0.6710886 , -0.02015539], dtype=float32),\n",
              " array([-0.53687084, -0.01209324], dtype=float32),\n",
              " array([-0.42949668, -0.00725594], dtype=float32),\n",
              " array([-0.34359735, -0.00435356], dtype=float32),\n",
              " array([-0.27487788, -0.00261214], dtype=float32),\n",
              " array([-0.2199023 , -0.00156728], dtype=float32),\n",
              " array([-0.17592184, -0.00094037], dtype=float32),\n",
              " array([-0.14073747, -0.00056422], dtype=float32),\n",
              " array([-0.11258998, -0.00033853], dtype=float32),\n",
              " array([-0.09007198, -0.00020312], dtype=float32),\n",
              " array([-0.07205759, -0.00012187], dtype=float32),\n",
              " array([-5.7646073e-02, -7.3123156e-05], dtype=float32)]"
            ]
          },
          "execution_count": 104,
          "metadata": {},
          "output_type": "execute_result"
        }
      ],
      "source": [
        "weights_history"
      ]
    },
    {
      "cell_type": "code",
      "execution_count": 105,
      "metadata": {
        "colab": {
          "base_uri": "https://localhost:8080/",
          "height": 262
        },
        "id": "ru2tNBxZoIcb",
        "outputId": "7506eb5a-1078-4528-b1d8-6fd43f9d2a15"
      },
      "outputs": [
        {
          "data": {
            "image/svg+xml": "<?xml version=\"1.0\" encoding=\"utf-8\" standalone=\"no\"?>\n<!DOCTYPE svg PUBLIC \"-//W3C//DTD SVG 1.1//EN\"\n  \"http://www.w3.org/Graphics/SVG/1.1/DTD/svg11.dtd\">\n<!-- Created with matplotlib (https://matplotlib.org/) -->\n<svg height=\"180.65625pt\" version=\"1.1\" viewBox=\"0 0 245.120313 180.65625\" width=\"245.120313pt\" xmlns=\"http://www.w3.org/2000/svg\" xmlns:xlink=\"http://www.w3.org/1999/xlink\">\n <defs>\n  <style type=\"text/css\">\n*{stroke-linecap:butt;stroke-linejoin:round;}\n  </style>\n </defs>\n <g id=\"figure_1\">\n  <g id=\"patch_1\">\n   <path d=\"M 0 180.65625 \nL 245.120313 180.65625 \nL 245.120313 0 \nL 0 0 \nz\n\" style=\"fill:none;\"/>\n  </g>\n  <g id=\"axes_1\">\n   <g id=\"patch_2\">\n    <path d=\"M 42.620312 143.1 \nL 237.920313 143.1 \nL 237.920313 7.2 \nL 42.620312 7.2 \nz\n\" style=\"fill:#ffffff;\"/>\n   </g>\n   <g id=\"matplotlib.axis_1\">\n    <g id=\"xtick_1\">\n     <g id=\"line2d_1\">\n      <defs>\n       <path d=\"M 0 0 \nL 0 3.5 \n\" id=\"m0084593498\" style=\"stroke:#000000;stroke-width:0.8;\"/>\n      </defs>\n      <g>\n       <use style=\"stroke:#000000;stroke-width:0.8;\" x=\"88.39375\" xlink:href=\"#m0084593498\" y=\"143.1\"/>\n      </g>\n     </g>\n     <g id=\"text_1\">\n      <!-- −4 -->\n      <defs>\n       <path d=\"M 10.59375 35.5 \nL 73.1875 35.5 \nL 73.1875 27.203125 \nL 10.59375 27.203125 \nz\n\" id=\"DejaVuSans-8722\"/>\n       <path d=\"M 37.796875 64.3125 \nL 12.890625 25.390625 \nL 37.796875 25.390625 \nz\nM 35.203125 72.90625 \nL 47.609375 72.90625 \nL 47.609375 25.390625 \nL 58.015625 25.390625 \nL 58.015625 17.1875 \nL 47.609375 17.1875 \nL 47.609375 0 \nL 37.796875 0 \nL 37.796875 17.1875 \nL 4.890625 17.1875 \nL 4.890625 26.703125 \nz\n\" id=\"DejaVuSans-52\"/>\n      </defs>\n      <g transform=\"translate(81.022656 157.698438)scale(0.1 -0.1)\">\n       <use xlink:href=\"#DejaVuSans-8722\"/>\n       <use x=\"83.789062\" xlink:href=\"#DejaVuSans-52\"/>\n      </g>\n     </g>\n    </g>\n    <g id=\"xtick_2\">\n     <g id=\"line2d_2\">\n      <g>\n       <use style=\"stroke:#000000;stroke-width:0.8;\" x=\"149.425\" xlink:href=\"#m0084593498\" y=\"143.1\"/>\n      </g>\n     </g>\n     <g id=\"text_2\">\n      <!-- −2 -->\n      <defs>\n       <path d=\"M 19.1875 8.296875 \nL 53.609375 8.296875 \nL 53.609375 0 \nL 7.328125 0 \nL 7.328125 8.296875 \nQ 12.9375 14.109375 22.625 23.890625 \nQ 32.328125 33.6875 34.8125 36.53125 \nQ 39.546875 41.84375 41.421875 45.53125 \nQ 43.3125 49.21875 43.3125 52.78125 \nQ 43.3125 58.59375 39.234375 62.25 \nQ 35.15625 65.921875 28.609375 65.921875 \nQ 23.96875 65.921875 18.8125 64.3125 \nQ 13.671875 62.703125 7.8125 59.421875 \nL 7.8125 69.390625 \nQ 13.765625 71.78125 18.9375 73 \nQ 24.125 74.21875 28.421875 74.21875 \nQ 39.75 74.21875 46.484375 68.546875 \nQ 53.21875 62.890625 53.21875 53.421875 \nQ 53.21875 48.921875 51.53125 44.890625 \nQ 49.859375 40.875 45.40625 35.40625 \nQ 44.1875 33.984375 37.640625 27.21875 \nQ 31.109375 20.453125 19.1875 8.296875 \nz\n\" id=\"DejaVuSans-50\"/>\n      </defs>\n      <g transform=\"translate(142.053907 157.698438)scale(0.1 -0.1)\">\n       <use xlink:href=\"#DejaVuSans-8722\"/>\n       <use x=\"83.789062\" xlink:href=\"#DejaVuSans-50\"/>\n      </g>\n     </g>\n    </g>\n    <g id=\"xtick_3\">\n     <g id=\"line2d_3\">\n      <g>\n       <use style=\"stroke:#000000;stroke-width:0.8;\" x=\"210.456251\" xlink:href=\"#m0084593498\" y=\"143.1\"/>\n      </g>\n     </g>\n     <g id=\"text_3\">\n      <!-- 0 -->\n      <defs>\n       <path d=\"M 31.78125 66.40625 \nQ 24.171875 66.40625 20.328125 58.90625 \nQ 16.5 51.421875 16.5 36.375 \nQ 16.5 21.390625 20.328125 13.890625 \nQ 24.171875 6.390625 31.78125 6.390625 \nQ 39.453125 6.390625 43.28125 13.890625 \nQ 47.125 21.390625 47.125 36.375 \nQ 47.125 51.421875 43.28125 58.90625 \nQ 39.453125 66.40625 31.78125 66.40625 \nz\nM 31.78125 74.21875 \nQ 44.046875 74.21875 50.515625 64.515625 \nQ 56.984375 54.828125 56.984375 36.375 \nQ 56.984375 17.96875 50.515625 8.265625 \nQ 44.046875 -1.421875 31.78125 -1.421875 \nQ 19.53125 -1.421875 13.0625 8.265625 \nQ 6.59375 17.96875 6.59375 36.375 \nQ 6.59375 54.828125 13.0625 64.515625 \nQ 19.53125 74.21875 31.78125 74.21875 \nz\n\" id=\"DejaVuSans-48\"/>\n      </defs>\n      <g transform=\"translate(207.275001 157.698438)scale(0.1 -0.1)\">\n       <use xlink:href=\"#DejaVuSans-48\"/>\n      </g>\n     </g>\n    </g>\n    <g id=\"text_4\">\n     <!-- x1 -->\n     <defs>\n      <path d=\"M 54.890625 54.6875 \nL 35.109375 28.078125 \nL 55.90625 0 \nL 45.3125 0 \nL 29.390625 21.484375 \nL 13.484375 0 \nL 2.875 0 \nL 24.125 28.609375 \nL 4.6875 54.6875 \nL 15.28125 54.6875 \nL 29.78125 35.203125 \nL 44.28125 54.6875 \nz\n\" id=\"DejaVuSans-120\"/>\n      <path d=\"M 12.40625 8.296875 \nL 28.515625 8.296875 \nL 28.515625 63.921875 \nL 10.984375 60.40625 \nL 10.984375 69.390625 \nL 28.421875 72.90625 \nL 38.28125 72.90625 \nL 38.28125 8.296875 \nL 54.390625 8.296875 \nL 54.390625 0 \nL 12.40625 0 \nz\n\" id=\"DejaVuSans-49\"/>\n     </defs>\n     <g transform=\"translate(134.129687 171.376563)scale(0.1 -0.1)\">\n      <use xlink:href=\"#DejaVuSans-120\"/>\n      <use x=\"59.179688\" xlink:href=\"#DejaVuSans-49\"/>\n     </g>\n    </g>\n   </g>\n   <g id=\"matplotlib.axis_2\">\n    <g id=\"ytick_1\">\n     <g id=\"line2d_4\">\n      <defs>\n       <path d=\"M 0 0 \nL -3.5 0 \n\" id=\"md8298f8193\" style=\"stroke:#000000;stroke-width:0.8;\"/>\n      </defs>\n      <g>\n       <use style=\"stroke:#000000;stroke-width:0.8;\" x=\"42.620312\" xlink:href=\"#md8298f8193\" y=\"143.1\"/>\n      </g>\n     </g>\n     <g id=\"text_5\">\n      <!-- −3 -->\n      <defs>\n       <path d=\"M 40.578125 39.3125 \nQ 47.65625 37.796875 51.625 33 \nQ 55.609375 28.21875 55.609375 21.1875 \nQ 55.609375 10.40625 48.1875 4.484375 \nQ 40.765625 -1.421875 27.09375 -1.421875 \nQ 22.515625 -1.421875 17.65625 -0.515625 \nQ 12.796875 0.390625 7.625 2.203125 \nL 7.625 11.71875 \nQ 11.71875 9.328125 16.59375 8.109375 \nQ 21.484375 6.890625 26.8125 6.890625 \nQ 36.078125 6.890625 40.9375 10.546875 \nQ 45.796875 14.203125 45.796875 21.1875 \nQ 45.796875 27.640625 41.28125 31.265625 \nQ 36.765625 34.90625 28.71875 34.90625 \nL 20.21875 34.90625 \nL 20.21875 43.015625 \nL 29.109375 43.015625 \nQ 36.375 43.015625 40.234375 45.921875 \nQ 44.09375 48.828125 44.09375 54.296875 \nQ 44.09375 59.90625 40.109375 62.90625 \nQ 36.140625 65.921875 28.71875 65.921875 \nQ 24.65625 65.921875 20.015625 65.03125 \nQ 15.375 64.15625 9.8125 62.3125 \nL 9.8125 71.09375 \nQ 15.4375 72.65625 20.34375 73.4375 \nQ 25.25 74.21875 29.59375 74.21875 \nQ 40.828125 74.21875 47.359375 69.109375 \nQ 53.90625 64.015625 53.90625 55.328125 \nQ 53.90625 49.265625 50.4375 45.09375 \nQ 46.96875 40.921875 40.578125 39.3125 \nz\n\" id=\"DejaVuSans-51\"/>\n      </defs>\n      <g transform=\"translate(20.878125 146.899219)scale(0.1 -0.1)\">\n       <use xlink:href=\"#DejaVuSans-8722\"/>\n       <use x=\"83.789062\" xlink:href=\"#DejaVuSans-51\"/>\n      </g>\n     </g>\n    </g>\n    <g id=\"ytick_2\">\n     <g id=\"line2d_5\">\n      <g>\n       <use style=\"stroke:#000000;stroke-width:0.8;\" x=\"42.620312\" xlink:href=\"#md8298f8193\" y=\"108.253846\"/>\n      </g>\n     </g>\n     <g id=\"text_6\">\n      <!-- −2 -->\n      <g transform=\"translate(20.878125 112.053065)scale(0.1 -0.1)\">\n       <use xlink:href=\"#DejaVuSans-8722\"/>\n       <use x=\"83.789062\" xlink:href=\"#DejaVuSans-50\"/>\n      </g>\n     </g>\n    </g>\n    <g id=\"ytick_3\">\n     <g id=\"line2d_6\">\n      <g>\n       <use style=\"stroke:#000000;stroke-width:0.8;\" x=\"42.620312\" xlink:href=\"#md8298f8193\" y=\"73.407692\"/>\n      </g>\n     </g>\n     <g id=\"text_7\">\n      <!-- −1 -->\n      <g transform=\"translate(20.878125 77.206911)scale(0.1 -0.1)\">\n       <use xlink:href=\"#DejaVuSans-8722\"/>\n       <use x=\"83.789062\" xlink:href=\"#DejaVuSans-49\"/>\n      </g>\n     </g>\n    </g>\n    <g id=\"ytick_4\">\n     <g id=\"line2d_7\">\n      <g>\n       <use style=\"stroke:#000000;stroke-width:0.8;\" x=\"42.620312\" xlink:href=\"#md8298f8193\" y=\"38.561538\"/>\n      </g>\n     </g>\n     <g id=\"text_8\">\n      <!-- 0 -->\n      <g transform=\"translate(29.257812 42.360757)scale(0.1 -0.1)\">\n       <use xlink:href=\"#DejaVuSans-48\"/>\n      </g>\n     </g>\n    </g>\n    <g id=\"text_9\">\n     <!-- x2 -->\n     <g transform=\"translate(14.798437 81.290625)rotate(-90)scale(0.1 -0.1)\">\n      <use xlink:href=\"#DejaVuSans-120\"/>\n      <use x=\"59.179688\" xlink:href=\"#DejaVuSans-50\"/>\n     </g>\n    </g>\n   </g>\n   <g id=\"LineCollection_1\"/>\n   <g id=\"LineCollection_2\">\n    <path clip-path=\"url(#p75bb4ee63f)\" d=\"M 133.389338 7.2 \nL 131.354961 10.684614 \nL 131.115628 11.149219 \nL 129.618631 14.16923 \nL 128.121641 17.653845 \nL 128.064069 17.812225 \nL 126.898922 21.138461 \nL 125.900228 24.623076 \nL 125.123465 28.107691 \nL 125.012502 28.804598 \nL 124.58421 31.592307 \nL 124.262994 35.076923 \nL 124.155921 38.561539 \nL 124.262994 42.046154 \nL 124.58421 45.530769 \nL 125.012502 48.318478 \nL 125.123465 49.015384 \nL 125.900228 52.500001 \nL 126.898922 55.984615 \nL 128.064069 59.310851 \nL 128.121641 59.469231 \nL 129.618631 62.953845 \nL 131.115628 65.973855 \nL 131.354961 66.438459 \nL 133.389338 69.923076 \nL 134.167188 71.115182 \nL 135.724107 73.407692 \nL 137.218755 75.398907 \nL 138.387435 76.892308 \nL 140.270314 79.089128 \nL 141.423126 80.37692 \nL 143.321874 82.328309 \nL 144.883135 83.861536 \nL 146.373441 85.216671 \nL 148.829573 87.346153 \nL 149.425 87.826789 \nL 152.476564 90.169895 \nL 153.383783 90.830769 \nL 155.528127 92.292059 \nL 158.57969 94.25918 \nL 158.672164 94.315385 \nL 161.631253 96.004895 \nL 164.682813 97.641606 \nL 164.998499 97.800001 \nL 167.734376 99.094286 \nL 170.785939 100.438353 \nL 172.861005 101.284618 \nL 173.837499 101.66133 \nL 176.889062 102.744387 \nL 179.940626 103.733262 \nL 182.992189 104.627962 \nL 183.530712 104.769234 \nL 186.04375 105.394675 \nL 189.095313 106.064794 \nL 192.146877 106.645562 \nL 195.198438 107.136982 \nL 198.250001 107.539054 \nL 201.301564 107.851774 \nL 204.353126 108.075148 \nL 207.404689 108.20917 \nL 210.456251 108.253846 \nL 213.507813 108.20917 \nL 216.559376 108.075148 \nL 219.610939 107.851774 \nL 222.662501 107.539054 \nL 225.714063 107.136982 \nL 228.765626 106.645562 \nL 231.817188 106.064794 \nL 234.868751 105.394675 \nL 237.38179 104.769234 \nL 237.920313 104.627962 \n\" style=\"fill:none;stroke:#1f77b4;stroke-width:1.5;\"/>\n   </g>\n   <g id=\"LineCollection_3\">\n    <path clip-path=\"url(#p75bb4ee63f)\" d=\"M 94.741 7.2 \nL 94.496869 7.814946 \nL 93.387217 10.684614 \nL 92.198295 14.16923 \nL 91.44531 16.715693 \nL 91.174923 17.653845 \nL 90.325119 21.138461 \nL 89.629825 24.623076 \nL 89.089044 28.107691 \nL 88.702769 31.592307 \nL 88.471007 35.076923 \nL 88.393757 38.561206 \nL 88.39375 38.561539 \nL 88.393757 38.561871 \nL 88.471007 42.046154 \nL 88.702769 45.530769 \nL 89.089044 49.015384 \nL 89.629825 52.500001 \nL 90.325119 55.984615 \nL 91.174923 59.469231 \nL 91.44531 60.407382 \nL 92.198295 62.953845 \nL 93.387217 66.438459 \nL 94.496869 69.30813 \nL 94.741 69.923076 \nL 96.287127 73.407692 \nL 97.548436 75.979666 \nL 98.008263 76.892308 \nL 99.931161 80.37692 \nL 100.599996 81.491996 \nL 102.061308 83.861536 \nL 103.651563 86.249145 \nL 104.403397 87.346153 \nL 106.703122 90.470284 \nL 106.976403 90.830769 \nL 109.754682 94.25917 \nL 109.801639 94.315385 \nL 112.806249 97.694405 \nL 112.903126 97.800001 \nL 115.857816 100.836595 \nL 116.308047 101.284618 \nL 118.909375 103.733262 \nL 120.04725 104.769234 \nL 121.960942 106.422193 \nL 124.155924 108.253846 \nL 125.012502 108.93377 \nL 128.064069 111.271016 \nL 128.697415 111.738466 \nL 131.115628 113.440255 \nL 133.748347 115.223078 \nL 134.167188 115.494103 \nL 137.218755 117.391282 \nL 139.426266 118.70769 \nL 140.270314 119.189606 \nL 143.321874 120.857774 \nL 145.876677 122.192311 \nL 146.373441 122.441211 \nL 149.425 123.899059 \nL 152.476564 125.285791 \nL 153.383788 125.676923 \nL 155.528127 126.565159 \nL 158.57969 127.760863 \nL 161.631253 128.888239 \nL 162.418734 129.161535 \nL 164.682813 129.917634 \nL 167.734376 130.870972 \nL 170.785939 131.758564 \nL 173.837499 132.580406 \nL 174.102859 132.646155 \nL 176.889062 133.311398 \nL 179.940626 133.976642 \nL 182.992189 134.57853 \nL 186.04375 135.117062 \nL 189.095313 135.592236 \nL 192.146877 136.004057 \nL 193.256511 136.130768 \nL 195.198438 136.344737 \nL 198.250001 136.619839 \nL 201.301564 136.833805 \nL 204.353126 136.986639 \nL 207.404689 137.078339 \nL 210.456251 137.108907 \nL 213.507813 137.078339 \nL 216.559376 136.986639 \nL 219.610939 136.833805 \nL 222.662501 136.619839 \nL 225.714063 136.344737 \nL 227.655991 136.130768 \nL 228.765626 136.004057 \nL 231.817188 135.592236 \nL 234.868751 135.117062 \nL 237.920313 134.57853 \n\" style=\"fill:none;stroke:#1f77b4;stroke-width:1.5;\"/>\n   </g>\n   <g id=\"LineCollection_4\">\n    <path clip-path=\"url(#p75bb4ee63f)\" d=\"M 66.101283 7.2 \nL 65.009145 10.684614 \nL 64.045489 14.16923 \nL 63.981244 14.437284 \nL 63.226219 17.653845 \nL 62.534115 21.138461 \nL 61.967845 24.623076 \nL 61.527415 28.107691 \nL 61.21282 31.592307 \nL 61.024065 35.076923 \nL 60.961145 38.561539 \nL 61.024065 42.046154 \nL 61.21282 45.530769 \nL 61.527415 49.015384 \nL 61.967845 52.500001 \nL 62.534115 55.984615 \nL 63.226219 59.469231 \nL 63.981244 62.685792 \nL 64.045489 62.953845 \nL 65.009145 66.438459 \nL 66.101283 69.923076 \nL 67.032818 72.582402 \nL 67.328125 73.407692 \nL 68.706252 76.892308 \nL 70.084378 80.073917 \nL 70.218509 80.37692 \nL 71.895191 83.861536 \nL 73.135938 86.249145 \nL 73.718821 87.346153 \nL 75.70748 90.830769 \nL 76.187512 91.617635 \nL 77.871125 94.315385 \nL 79.239071 96.374484 \nL 80.208385 97.800001 \nL 82.290631 100.687261 \nL 82.731817 101.284618 \nL 85.342191 104.627962 \nL 85.455214 104.769234 \nL 88.39375 108.253846 \nL 88.393757 108.253854 \nL 91.44531 111.610969 \nL 91.564212 111.738466 \nL 94.496869 114.736843 \nL 94.98513 115.223078 \nL 97.548436 117.662305 \nL 98.677098 118.70769 \nL 100.599996 120.412926 \nL 102.66303 122.192311 \nL 103.651563 123.010127 \nL 106.703122 125.463574 \nL 106.976403 125.676923 \nL 109.754682 127.760856 \nL 111.679511 129.161535 \nL 112.806249 129.950509 \nL 115.857816 132.021554 \nL 116.808306 132.646155 \nL 118.909375 133.97664 \nL 121.960942 135.845668 \nL 122.442758 136.130768 \nL 125.012502 137.597976 \nL 128.064069 139.279152 \nL 128.697416 139.615388 \nL 131.115628 140.855672 \nL 134.167188 142.361734 \nL 135.724104 143.1 \n\" style=\"fill:none;stroke:#1f77b4;stroke-width:1.5;\"/>\n   </g>\n   <g id=\"LineCollection_5\">\n    <path clip-path=\"url(#p75bb4ee63f)\" d=\"M 42.620312 71.115188 \nL 43.320213 73.407692 \nL 44.496043 76.892308 \nL 45.671872 80.073903 \nL 45.785952 80.37692 \nL 47.211915 83.861536 \nL 48.723432 87.281609 \nL 48.7525 87.346153 \nL 50.438126 90.830769 \nL 51.775006 93.41615 \nL 52.249024 94.315385 \nL 54.204398 97.800001 \nL 54.826565 98.845393 \nL 56.307021 101.284618 \nL 57.878125 103.733263 \nL 58.556253 104.769234 \nL 60.929685 108.209162 \nL 60.961151 108.253846 \nL 63.540821 111.738466 \nL 63.981244 112.305719 \nL 66.294014 115.223078 \nL 67.032818 116.113596 \nL 69.231252 118.70769 \nL 70.084378 119.671522 \nL 72.364666 122.192311 \nL 73.135938 123.010127 \nL 75.70748 125.676923 \nL 76.187512 126.155214 \nL 79.239071 129.127391 \nL 79.274952 129.161535 \nL 82.290631 131.922942 \nL 83.09947 132.646155 \nL 85.342191 134.578536 \nL 87.188189 136.130768 \nL 88.393757 137.108915 \nL 91.44531 139.52368 \nL 91.564212 139.615388 \nL 94.496869 141.800646 \nL 96.287127 143.1 \n\" style=\"fill:none;stroke:#1f77b4;stroke-width:1.5;\"/>\n   </g>\n   <g id=\"LineCollection_6\">\n    <path clip-path=\"url(#p75bb4ee63f)\" d=\"M 42.620312 115.494102 \nL 44.943982 118.70769 \nL 45.671872 119.671517 \nL 47.611182 122.192311 \nL 48.723432 123.579037 \nL 50.438126 125.676923 \nL 51.775006 127.248424 \nL 53.434101 129.161535 \nL 54.826565 130.706605 \nL 56.609163 132.646155 \nL 57.878125 133.97664 \nL 59.974143 136.130768 \nL 60.929685 137.078341 \nL 63.540815 139.615388 \nL 63.981244 140.028815 \nL 67.032818 142.834235 \nL 67.32812 143.1 \n\" style=\"fill:none;stroke:#1f77b4;stroke-width:1.5;\"/>\n   </g>\n   <g id=\"LineCollection_7\">\n    <path clip-path=\"url(#p75bb4ee63f)\" d=\"M 42.620312 142.361735 \nL 43.320214 143.1 \n\" style=\"fill:none;stroke:#1f77b4;stroke-width:1.5;\"/>\n   </g>\n   <g id=\"LineCollection_8\"/>\n   <g id=\"line2d_8\">\n    <path clip-path=\"url(#p75bb4ee63f)\" d=\"M 88.39375 80.376924 \nL 112.806249 63.65077 \nL 132.336252 53.615077 \nL 147.960255 47.593661 \nL 160.459455 43.980811 \nL 170.458815 41.813102 \nL 178.458302 40.512476 \nL 184.857892 39.732101 \nL 189.977563 39.263876 \nL 194.073301 38.982941 \nL 197.349891 38.814379 \nL 199.971163 38.713243 \nL 202.06818 38.652561 \nL 203.745794 38.616152 \nL 205.087886 38.594306 \nL 206.161559 38.581199 \nL 207.020497 38.573334 \nL 207.707648 38.568616 \nL 208.257368 38.565785 \nL 208.697145 38.564086 \n\" style=\"fill:none;stroke:#ff7f0e;stroke-linecap:square;stroke-width:1.5;\"/>\n    <defs>\n     <path d=\"M 0 3 \nC 0.795609 3 1.55874 2.683901 2.12132 2.12132 \nC 2.683901 1.55874 3 0.795609 3 0 \nC 3 -0.795609 2.683901 -1.55874 2.12132 -2.12132 \nC 1.55874 -2.683901 0.795609 -3 0 -3 \nC -0.795609 -3 -1.55874 -2.683901 -2.12132 -2.12132 \nC -2.683901 -1.55874 -3 -0.795609 -3 0 \nC -3 0.795609 -2.683901 1.55874 -2.12132 2.12132 \nC -1.55874 2.683901 -0.795609 3 0 3 \nz\n\" id=\"m8f6732e8ca\" style=\"stroke:#ff7f0e;\"/>\n    </defs>\n    <g clip-path=\"url(#p75bb4ee63f)\">\n     <use style=\"fill:#ff7f0e;stroke:#ff7f0e;\" x=\"88.39375\" xlink:href=\"#m8f6732e8ca\" y=\"80.376924\"/>\n     <use style=\"fill:#ff7f0e;stroke:#ff7f0e;\" x=\"112.806249\" xlink:href=\"#m8f6732e8ca\" y=\"63.65077\"/>\n     <use style=\"fill:#ff7f0e;stroke:#ff7f0e;\" x=\"132.336252\" xlink:href=\"#m8f6732e8ca\" y=\"53.615077\"/>\n     <use style=\"fill:#ff7f0e;stroke:#ff7f0e;\" x=\"147.960255\" xlink:href=\"#m8f6732e8ca\" y=\"47.593661\"/>\n     <use style=\"fill:#ff7f0e;stroke:#ff7f0e;\" x=\"160.459455\" xlink:href=\"#m8f6732e8ca\" y=\"43.980811\"/>\n     <use style=\"fill:#ff7f0e;stroke:#ff7f0e;\" x=\"170.458815\" xlink:href=\"#m8f6732e8ca\" y=\"41.813102\"/>\n     <use style=\"fill:#ff7f0e;stroke:#ff7f0e;\" x=\"178.458302\" xlink:href=\"#m8f6732e8ca\" y=\"40.512476\"/>\n     <use style=\"fill:#ff7f0e;stroke:#ff7f0e;\" x=\"184.857892\" xlink:href=\"#m8f6732e8ca\" y=\"39.732101\"/>\n     <use style=\"fill:#ff7f0e;stroke:#ff7f0e;\" x=\"189.977563\" xlink:href=\"#m8f6732e8ca\" y=\"39.263876\"/>\n     <use style=\"fill:#ff7f0e;stroke:#ff7f0e;\" x=\"194.073301\" xlink:href=\"#m8f6732e8ca\" y=\"38.982941\"/>\n     <use style=\"fill:#ff7f0e;stroke:#ff7f0e;\" x=\"197.349891\" xlink:href=\"#m8f6732e8ca\" y=\"38.814379\"/>\n     <use style=\"fill:#ff7f0e;stroke:#ff7f0e;\" x=\"199.971163\" xlink:href=\"#m8f6732e8ca\" y=\"38.713243\"/>\n     <use style=\"fill:#ff7f0e;stroke:#ff7f0e;\" x=\"202.06818\" xlink:href=\"#m8f6732e8ca\" y=\"38.652561\"/>\n     <use style=\"fill:#ff7f0e;stroke:#ff7f0e;\" x=\"203.745794\" xlink:href=\"#m8f6732e8ca\" y=\"38.616152\"/>\n     <use style=\"fill:#ff7f0e;stroke:#ff7f0e;\" x=\"205.087886\" xlink:href=\"#m8f6732e8ca\" y=\"38.594306\"/>\n     <use style=\"fill:#ff7f0e;stroke:#ff7f0e;\" x=\"206.161559\" xlink:href=\"#m8f6732e8ca\" y=\"38.581199\"/>\n     <use style=\"fill:#ff7f0e;stroke:#ff7f0e;\" x=\"207.020497\" xlink:href=\"#m8f6732e8ca\" y=\"38.573334\"/>\n     <use style=\"fill:#ff7f0e;stroke:#ff7f0e;\" x=\"207.707648\" xlink:href=\"#m8f6732e8ca\" y=\"38.568616\"/>\n     <use style=\"fill:#ff7f0e;stroke:#ff7f0e;\" x=\"208.257368\" xlink:href=\"#m8f6732e8ca\" y=\"38.565785\"/>\n     <use style=\"fill:#ff7f0e;stroke:#ff7f0e;\" x=\"208.697145\" xlink:href=\"#m8f6732e8ca\" y=\"38.564086\"/>\n    </g>\n   </g>\n   <g id=\"patch_3\">\n    <path d=\"M 42.620312 143.1 \nL 42.620312 7.2 \n\" style=\"fill:none;stroke:#000000;stroke-linecap:square;stroke-linejoin:miter;stroke-width:0.8;\"/>\n   </g>\n   <g id=\"patch_4\">\n    <path d=\"M 237.920313 143.1 \nL 237.920313 7.2 \n\" style=\"fill:none;stroke:#000000;stroke-linecap:square;stroke-linejoin:miter;stroke-width:0.8;\"/>\n   </g>\n   <g id=\"patch_5\">\n    <path d=\"M 42.620312 143.1 \nL 237.920313 143.1 \n\" style=\"fill:none;stroke:#000000;stroke-linecap:square;stroke-linejoin:miter;stroke-width:0.8;\"/>\n   </g>\n   <g id=\"patch_6\">\n    <path d=\"M 42.620312 7.2 \nL 237.920313 7.2 \n\" style=\"fill:none;stroke:#000000;stroke-linecap:square;stroke-linejoin:miter;stroke-width:0.8;\"/>\n   </g>\n  </g>\n </g>\n <defs>\n  <clipPath id=\"p75bb4ee63f\">\n   <rect height=\"135.9\" width=\"195.3\" x=\"42.620312\" y=\"7.2\"/>\n  </clipPath>\n </defs>\n</svg>\n",
            "text/plain": [
              "<Figure size 252x180 with 1 Axes>"
            ]
          },
          "metadata": {
            "needs_background": "light"
          },
          "output_type": "display_data"
        }
      ],
      "source": [
        "show_trace_2d(f_2d, weights_history)"
      ]
    }
  ],
  "metadata": {
    "colab": {
      "collapsed_sections": [],
      "provenance": []
    },
    "kernelspec": {
      "display_name": "Python 3.8.10 64-bit",
      "language": "python",
      "name": "python3"
    },
    "language_info": {
      "name": "python",
      "version": "3.8.10"
    },
    "vscode": {
      "interpreter": {
        "hash": "d03629f34526177316315ea7bc2ac52c3dfd0653b5f4ff6fbe564205bb2f29d4"
      }
    }
  },
  "nbformat": 4,
  "nbformat_minor": 0
}
